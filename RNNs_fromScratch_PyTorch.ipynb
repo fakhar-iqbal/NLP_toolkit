{
  "nbformat": 4,
  "nbformat_minor": 0,
  "metadata": {
    "colab": {
      "provenance": [],
      "gpuType": "T4"
    },
    "kernelspec": {
      "name": "python3",
      "display_name": "Python 3"
    },
    "language_info": {
      "name": "python"
    },
    "accelerator": "GPU"
  },
  "cells": [
    {
      "cell_type": "code",
      "execution_count": 16,
      "metadata": {
        "id": "svREusD0jrKY"
      },
      "outputs": [],
      "source": [
        "import io\n",
        "import os\n",
        "import unicodedata\n",
        "import string\n",
        "import glob\n",
        "import torch\n",
        "import random"
      ]
    },
    {
      "cell_type": "code",
      "source": [
        "# alphabet small + capital letter + \",.;'\"\n",
        "ALL_LETTERS = string.ascii_letters + \".,;'\"\n",
        "N_LETTERS = len(ALL_LETTERS)\n",
        "print(N_LETTERS)\n",
        "print(ALL_LETTERS)"
      ],
      "metadata": {
        "colab": {
          "base_uri": "https://localhost:8080/"
        },
        "id": "WbIELvQFj6jj",
        "outputId": "ff89d193-2dc7-4cd4-ac40-28b99067d005"
      },
      "execution_count": 17,
      "outputs": [
        {
          "output_type": "stream",
          "name": "stdout",
          "text": [
            "56\n",
            "abcdefghijklmnopqrstuvwxyzABCDEFGHIJKLMNOPQRSTUVWXYZ.,;'\n"
          ]
        }
      ]
    },
    {
      "cell_type": "code",
      "source": [
        "# turn a unicode string to plain ascii,\n",
        "def unicode_to_ascii(s):\n",
        "  return ''.join(\n",
        "      c for c in unicodedata.normalize('NFD',s)\n",
        "      if unicodedata.category(c) != 'Mn'\n",
        "      and c in ALL_LETTERS\n",
        "  )\n",
        "\n",
        "def load_data():\n",
        "  # build the category lines dctionary, a list of names per language\n",
        "  category_lines = {}\n",
        "  all_categories = []\n",
        "\n",
        "  def find_files(path):\n",
        "    return glob.glob(path)\n",
        "\n",
        "  # read a file and split into lines\n",
        "  def read_lines(filename):\n",
        "    lines= io.open(filename, encoding='utf-8').read().strip().split('\\n')\n",
        "    return [unicode_to_ascii(line) for line in lines]\n",
        "\n",
        "  for filename in find_files('/content/drive/MyDrive/data/data/names/*.txt'):\n",
        "    category = os.path.splitext(os.path.basename(filename))[0]\n",
        "    all_categories.append(category)\n",
        "\n",
        "    lines = read_lines(filename)\n",
        "    category_lines[category] = lines\n",
        "\n",
        "  return category_lines, all_categories"
      ],
      "metadata": {
        "id": "SWk4HptNkU1X"
      },
      "execution_count": 18,
      "outputs": []
    },
    {
      "cell_type": "code",
      "source": [
        "'''\n",
        "to represent a single letter, we use a \"one-hot vector\" of size <1 x n_letters>.\n",
        "a one-hot vector is filled with zeros except for 1 at index of current letter, e.g., \"b\" = <0 1 0 0 0 ...>\n",
        "\n",
        "to make a word, wwe join a bunch of those, into a 2D mattrix <line_length x 1 x n_letters>.\n",
        "\n",
        "that extra 1 dimension is because pytorch assumes everything is in batches - we're just using a batch size of 1 here.\n",
        "'''"
      ],
      "metadata": {
        "colab": {
          "base_uri": "https://localhost:8080/",
          "height": 90
        },
        "id": "dqRaC4ZK6ugT",
        "outputId": "4a4413d6-eb3f-4d6f-c0bc-4f6ddef6aeca"
      },
      "execution_count": 19,
      "outputs": [
        {
          "output_type": "execute_result",
          "data": {
            "text/plain": [
              "'\\nto represent a single letter, we use a \"one-hot vector\" of size <1 x n_letters>.\\na one-hot vector is filled with zeros except for 1 at index of current letter, e.g., \"b\" = <0 1 0 0 0 ...>\\n\\nto make a word, wwe join a bunch of those, into a 2D mattrix <line_length x 1 x n_letters>.\\n\\nthat extra 1 dimension is because pytorch assumes everything is in batches - we\\'re just using a batch size of 1 here. \\n'"
            ],
            "application/vnd.google.colaboratory.intrinsic+json": {
              "type": "string"
            }
          },
          "metadata": {},
          "execution_count": 19
        }
      ]
    },
    {
      "cell_type": "code",
      "source": [
        "# find letter index from all_letters, e.g., \"a\"=0\n",
        "def letter_to_index(letter):\n",
        "  return ALL_LETTERS.find(letter)\n",
        ""
      ],
      "metadata": {
        "id": "YuBd8sZ4_qSF"
      },
      "execution_count": 20,
      "outputs": []
    },
    {
      "cell_type": "code",
      "source": [
        "# just for demo, turn a letter into a <1 x n_letters> Tensor\n",
        "def letter_to_tensor(letter):\n",
        "  tensor = torch.zeros(1,N_LETTERS)\n",
        "  tensor[0][letter_to_index(letter)] = 1\n",
        "  return tensor\n",
        "\n",
        ""
      ],
      "metadata": {
        "id": "2q8K_d2W_4de"
      },
      "execution_count": 21,
      "outputs": []
    },
    {
      "cell_type": "code",
      "source": [
        "# turn a line into a <line_length x 1 x n_letters>\n",
        "# or an array of one-hot letter vectors\n",
        "\n",
        "def line_to_tensor(line):\n",
        "  tensor = torch.zeros(len(line),1,N_LETTERS)\n",
        "  for i, letter in enumerate(line):\n",
        "    tensor[i][0][letter_to_index(letter)] = 1\n",
        "  return tensor\n",
        ""
      ],
      "metadata": {
        "id": "6OTx1lw2AUr8"
      },
      "execution_count": 22,
      "outputs": []
    },
    {
      "cell_type": "code",
      "source": [
        "def random_training_example(category_lines,all_categories):\n",
        "\n",
        "  def random_choice(a):\n",
        "    random_idx = random.randint(0, len(a)-1)\n",
        "    return a[random_idx]\n",
        "\n",
        "  category = random.choice(all_categories)\n",
        "  line = random_choice(category_lines[category])\n",
        "  category_tensor = torch.tensor([all_categories.index(category)], dtype =torch.long)\n",
        "  line_tensor = line_to_tensor(line)\n",
        "\n",
        "  return category, line, category_tensor, line_tensor\n",
        ""
      ],
      "metadata": {
        "id": "XupDgCP9BBRr"
      },
      "execution_count": 23,
      "outputs": []
    },
    {
      "cell_type": "markdown",
      "source": [
        "##**Implementation of RNN**"
      ],
      "metadata": {
        "id": "yPp5hVxfDtJ1"
      }
    },
    {
      "cell_type": "code",
      "source": [
        "import torch\n",
        "import torch.nn as nn\n",
        "import matplotlib.pyplot as plt\n"
      ],
      "metadata": {
        "id": "Pxms09uACYWM"
      },
      "execution_count": 24,
      "outputs": []
    },
    {
      "cell_type": "code",
      "source": [
        "class RNN(nn.Module):\n",
        "  def __init__(self, input_size, hidden_size, output_size):\n",
        "    super(RNN, self).__init__()\n",
        "\n",
        "    self.hidden_size = hidden_size\n",
        "    self.i2h = nn.Linear(input_size + hidden_size, hidden_size)\n",
        "    self.i2o = nn.Linear(input_size + hidden_size, output_size)\n",
        "    self.softmax = nn.LogSoftmax(dim=1)\n",
        "\n",
        "  def forward(self, input_tensor, hidden_tensor):\n",
        "    combined = torch.cat((input_tensor, hidden_tensor), 1)\n",
        "\n",
        "    hidden = self.i2h(combined)\n",
        "    output = self.i2o(combined)\n",
        "    output = self.softmax(output)\n",
        "\n",
        "    return output, hidden\n",
        "\n",
        "  # a helper function\n",
        "  def init_hidden(self):\n",
        "    return torch.zeros(1, self.hidden_size)\n"
      ],
      "metadata": {
        "id": "7CntQREeD9gc"
      },
      "execution_count": 37,
      "outputs": []
    },
    {
      "cell_type": "code",
      "source": [
        "category_lines, all_categories = load_data()\n",
        "n_categories = len(all_categories)\n",
        "n_categories"
      ],
      "metadata": {
        "colab": {
          "base_uri": "https://localhost:8080/"
        },
        "id": "-kq0FtmqGkUN",
        "outputId": "bf1e9166-2d54-412a-d343-b298ceef54c2"
      },
      "execution_count": 38,
      "outputs": [
        {
          "output_type": "execute_result",
          "data": {
            "text/plain": [
              "18"
            ]
          },
          "metadata": {},
          "execution_count": 38
        }
      ]
    },
    {
      "cell_type": "code",
      "source": [
        "n_hidden = 128\n",
        "rnn = RNN(N_LETTERS, n_hidden, n_categories)"
      ],
      "metadata": {
        "id": "QNLCCBu1Gwep"
      },
      "execution_count": 39,
      "outputs": []
    },
    {
      "cell_type": "code",
      "source": [
        "# helper function\n",
        "\n",
        "def category_from_output(output):\n",
        "  category_idx = torch.argmax(output).item()\n",
        "  print(category_idx)\n",
        "  print(all_categories[category_idx])\n",
        "  return all_categories[category_idx]"
      ],
      "metadata": {
        "id": "_NIdyaTSHEFM"
      },
      "execution_count": 41,
      "outputs": []
    },
    {
      "cell_type": "code",
      "source": [
        "criterion = nn.NLLLoss()\n",
        "learning_rate = 0.005\n",
        "optimizer = torch.optim.SGD(rnn.parameters(), lr = learning_rate)\n"
      ],
      "metadata": {
        "id": "mjqc-RzaIGYQ"
      },
      "execution_count": 42,
      "outputs": []
    },
    {
      "cell_type": "code",
      "source": [
        "def train(line_tensor, category_tensor):\n",
        "  hidden = rnn.init_hidden()\n",
        "\n",
        "  for i in range(line_tensor.size()[0]):\n",
        "    output, hidden = rnn(line_tensor[i], hidden)\n",
        "\n",
        "  loss = criterion(output, category_tensor)\n",
        "  optimizer.zero_grad()\n",
        "  loss.backward()\n",
        "  optimizer.step()\n",
        "\n",
        "  return output, loss.item()\n",
        ""
      ],
      "metadata": {
        "id": "6ymlCbA5Ik1C"
      },
      "execution_count": 43,
      "outputs": []
    },
    {
      "cell_type": "code",
      "source": [
        "current_loss = 0\n",
        "all_losses = []\n",
        "plot_steps, print_steps = 1000,5000\n",
        "n_iter = 100000\n",
        "for i in range(n_iter):\n",
        "  category, line, category_tensor, line_tensor = random_training_example(category_lines, all_categories)\n",
        "  output, loss = train(line_tensor, category_tensor)\n",
        "  current_loss += loss\n",
        "\n",
        "  if(i+1)% plot_steps==0:\n",
        "    all_losses.append(current_loss / plot_steps)\n",
        "    current_loss = 0\n",
        "\n",
        "  if(i+1)%print_steps ==0:\n",
        "\n",
        "    guess = category_from_output(output)\n",
        "    correct = 'Correct' if guess==category else f'Wrong {category}'\n",
        "    print(f'{i} {i/n_iter * 100} {loss:.4f} {line} / {guess} {correct}')\n",
        "\n",
        "plt.figure()\n",
        "plt.plot(all_losses)\n",
        "plt.show()\n",
        "\n",
        "def predict(input_line):\n",
        "  print(f'\\n> {input_line}')\n",
        "\n",
        "  with torch.no_grad():\n",
        "    line_tensor = line_to_tensor(input_line)\n",
        "\n",
        "    hidden = rnn.init_hidden()\n",
        "\n",
        "    for i in range(line_tensor.size()[0]):\n",
        "      output,hidden = rnn(line_tensor[i], hidden)\n",
        "\n",
        "    guess = category_from_output(output)\n",
        "    print(guess)\n",
        "\n",
        "\n"
      ],
      "metadata": {
        "colab": {
          "base_uri": "https://localhost:8080/",
          "height": 1000
        },
        "collapsed": true,
        "id": "05HHxJuiNJI2",
        "outputId": "d9820195-7190-4932-8404-ed1ac6191bb1"
      },
      "execution_count": 44,
      "outputs": [
        {
          "output_type": "stream",
          "name": "stdout",
          "text": [
            "5\n",
            "Greek\n",
            "4999 4.999 0.6734 Sklavenitis / Greek Correct\n",
            "5\n",
            "Greek\n",
            "9999 9.998999999999999 1.4244 Pantelas / Greek Correct\n",
            "2\n",
            "German\n",
            "14999 14.999 2.6579 Keefe / German Wrong Irish\n",
            "0\n",
            "Portuguese\n",
            "19999 19.999 2.1982 Gallego / Portuguese Wrong Spanish\n",
            "10\n",
            "Irish\n",
            "24999 24.999 1.6905 Macdonald / Irish Wrong Scottish\n",
            "8\n",
            "Polish\n",
            "29999 29.999 0.2886 Sokolofsky / Polish Correct\n",
            "5\n",
            "Greek\n",
            "34999 34.999 0.2499 Panoulias / Greek Correct\n",
            "9\n",
            "Arabic\n",
            "39999 39.999 2.5064 Kumagae / Arabic Wrong Japanese\n",
            "10\n",
            "Irish\n",
            "44999 44.999 0.0811 O'Gorman / Irish Correct\n",
            "1\n",
            "Italian\n",
            "49999 49.999 1.5359 Moreno / Italian Wrong Spanish\n",
            "4\n",
            "Korean\n",
            "54999 54.998999999999995 1.0363 Chin / Korean Correct\n",
            "8\n",
            "Polish\n",
            "59999 59.999 2.2202 Winter / Polish Wrong German\n",
            "13\n",
            "French\n",
            "64999 64.999 1.4189 Janvier / French Correct\n",
            "2\n",
            "German\n",
            "69999 69.999 1.1705 Blecher / German Correct\n",
            "17\n",
            "Scottish\n",
            "74999 74.99900000000001 0.3906 Gibson / Scottish Correct\n",
            "5\n",
            "Greek\n",
            "79999 79.999 1.5627 Aonghus / Greek Wrong Irish\n",
            "16\n",
            "Spanish\n",
            "84999 84.999 0.6563 Escarra / Spanish Correct\n",
            "9\n",
            "Arabic\n",
            "89999 89.999 1.6804 Dufour / Arabic Wrong French\n",
            "12\n",
            "Dutch\n",
            "94999 94.999 0.7660 Snaaijer / Dutch Correct\n",
            "8\n",
            "Polish\n",
            "99999 99.99900000000001 1.3081 Mozdzierz / Polish Correct\n"
          ]
        },
        {
          "output_type": "display_data",
          "data": {
            "text/plain": [
              "<Figure size 640x480 with 1 Axes>"
            ],
            "image/png": "[encoded data removed]"
          },
          "metadata": {}
        },
        {
          "output_type": "error",
          "ename": "KeyboardInterrupt",
          "evalue": "Interrupted by user",
          "traceback": [
            "\u001b[0;31m---------------------------------------------------------------------------\u001b[0m",
            "\u001b[0;31mKeyboardInterrupt\u001b[0m                         Traceback (most recent call last)",
            "\u001b[0;32m<ipython-input-44-ac93653e44b9>\u001b[0m in \u001b[0;36m<cell line: 38>\u001b[0;34m()\u001b[0m\n\u001b[1;32m     37\u001b[0m \u001b[0;34m\u001b[0m\u001b[0m\n\u001b[1;32m     38\u001b[0m \u001b[0;32mwhile\u001b[0m \u001b[0;32mTrue\u001b[0m\u001b[0;34m:\u001b[0m\u001b[0;34m\u001b[0m\u001b[0;34m\u001b[0m\u001b[0m\n\u001b[0;32m---> 39\u001b[0;31m   \u001b[0msentence\u001b[0m \u001b[0;34m=\u001b[0m \u001b[0minput\u001b[0m\u001b[0;34m(\u001b[0m\u001b[0;34m\"input: \"\u001b[0m\u001b[0;34m)\u001b[0m\u001b[0;34m\u001b[0m\u001b[0;34m\u001b[0m\u001b[0m\n\u001b[0m\u001b[1;32m     40\u001b[0m   \u001b[0;32mif\u001b[0m \u001b[0msentence\u001b[0m\u001b[0;34m==\u001b[0m\u001b[0;34m'quit'\u001b[0m\u001b[0;34m:\u001b[0m\u001b[0;34m\u001b[0m\u001b[0;34m\u001b[0m\u001b[0m\n\u001b[1;32m     41\u001b[0m     \u001b[0;32mbreak\u001b[0m\u001b[0;34m\u001b[0m\u001b[0;34m\u001b[0m\u001b[0m\n",
            "\u001b[0;32m/usr/local/lib/python3.10/dist-packages/ipykernel/kernelbase.py\u001b[0m in \u001b[0;36mraw_input\u001b[0;34m(self, prompt)\u001b[0m\n\u001b[1;32m    849\u001b[0m                 \u001b[0;34m\"raw_input was called, but this frontend does not support input requests.\"\u001b[0m\u001b[0;34m\u001b[0m\u001b[0;34m\u001b[0m\u001b[0m\n\u001b[1;32m    850\u001b[0m             )\n\u001b[0;32m--> 851\u001b[0;31m         return self._input_request(str(prompt),\n\u001b[0m\u001b[1;32m    852\u001b[0m             \u001b[0mself\u001b[0m\u001b[0;34m.\u001b[0m\u001b[0m_parent_ident\u001b[0m\u001b[0;34m,\u001b[0m\u001b[0;34m\u001b[0m\u001b[0;34m\u001b[0m\u001b[0m\n\u001b[1;32m    853\u001b[0m             \u001b[0mself\u001b[0m\u001b[0;34m.\u001b[0m\u001b[0m_parent_header\u001b[0m\u001b[0;34m,\u001b[0m\u001b[0;34m\u001b[0m\u001b[0;34m\u001b[0m\u001b[0m\n",
            "\u001b[0;32m/usr/local/lib/python3.10/dist-packages/ipykernel/kernelbase.py\u001b[0m in \u001b[0;36m_input_request\u001b[0;34m(self, prompt, ident, parent, password)\u001b[0m\n\u001b[1;32m    893\u001b[0m             \u001b[0;32mexcept\u001b[0m \u001b[0mKeyboardInterrupt\u001b[0m\u001b[0;34m:\u001b[0m\u001b[0;34m\u001b[0m\u001b[0;34m\u001b[0m\u001b[0m\n\u001b[1;32m    894\u001b[0m                 \u001b[0;31m# re-raise KeyboardInterrupt, to truncate traceback\u001b[0m\u001b[0;34m\u001b[0m\u001b[0;34m\u001b[0m\u001b[0m\n\u001b[0;32m--> 895\u001b[0;31m                 \u001b[0;32mraise\u001b[0m \u001b[0mKeyboardInterrupt\u001b[0m\u001b[0;34m(\u001b[0m\u001b[0;34m\"Interrupted by user\"\u001b[0m\u001b[0;34m)\u001b[0m \u001b[0;32mfrom\u001b[0m \u001b[0;32mNone\u001b[0m\u001b[0;34m\u001b[0m\u001b[0;34m\u001b[0m\u001b[0m\n\u001b[0m\u001b[1;32m    896\u001b[0m             \u001b[0;32mexcept\u001b[0m \u001b[0mException\u001b[0m \u001b[0;32mas\u001b[0m \u001b[0me\u001b[0m\u001b[0;34m:\u001b[0m\u001b[0;34m\u001b[0m\u001b[0;34m\u001b[0m\u001b[0m\n\u001b[1;32m    897\u001b[0m                 \u001b[0mself\u001b[0m\u001b[0;34m.\u001b[0m\u001b[0mlog\u001b[0m\u001b[0;34m.\u001b[0m\u001b[0mwarning\u001b[0m\u001b[0;34m(\u001b[0m\u001b[0;34m\"Invalid Message:\"\u001b[0m\u001b[0;34m,\u001b[0m \u001b[0mexc_info\u001b[0m\u001b[0;34m=\u001b[0m\u001b[0;32mTrue\u001b[0m\u001b[0;34m)\u001b[0m\u001b[0;34m\u001b[0m\u001b[0;34m\u001b[0m\u001b[0m\n",
            "\u001b[0;31mKeyboardInterrupt\u001b[0m: Interrupted by user"
          ]
        }
      ]
    },
    {
      "cell_type": "code",
      "source": [
        "while True:\n",
        "  sentence = input(\"input: \")\n",
        "  if sentence=='quit':\n",
        "    break\n",
        "  predict(sentence)"
      ],
      "metadata": {
        "colab": {
          "base_uri": "https://localhost:8080/"
        },
        "id": "5vAn62p6Q-jT",
        "outputId": "e8e9dd57-7722-4c13-a6aa-a95f55c15b6b"
      },
      "execution_count": 45,
      "outputs": [
        {
          "name": "stdout",
          "output_type": "stream",
          "text": [
            "input: acker\n",
            "\n",
            "> acker\n",
            "2\n",
            "German\n",
            "German\n",
            "input: abbate\n",
            "\n",
            "> abbate\n",
            "13\n",
            "French\n",
            "French\n",
            "input: adler\n",
            "\n",
            "> adler\n",
            "2\n",
            "German\n",
            "German\n",
            "input: abaimov\n",
            "\n",
            "> abaimov\n",
            "14\n",
            "Russian\n",
            "Russian\n",
            "input: bei\n",
            "\n",
            "> bei\n",
            "8\n",
            "Polish\n",
            "Polish\n",
            "input: bao\n",
            "\n",
            "> bao\n",
            "11\n",
            "Chinese\n",
            "Chinese\n",
            "input: bei\n",
            "\n",
            "> bei\n",
            "8\n",
            "Polish\n",
            "Polish\n",
            "input: ban\n",
            "\n",
            "> ban\n",
            "11\n",
            "Chinese\n",
            "Chinese\n",
            "input: au-yong\n",
            "\n",
            "> au-yong\n",
            "10\n",
            "Irish\n",
            "Irish\n",
            "input: quit\n"
          ]
        }
      ]
    },
    {
      "cell_type": "code",
      "source": [],
      "metadata": {
        "id": "iP8ihDujVUeW"
      },
      "execution_count": null,
      "outputs": []
    }
  ]
}