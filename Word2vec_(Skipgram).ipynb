{
  "nbformat": 4,
  "nbformat_minor": 0,
  "metadata": {
    "colab": {
      "provenance": []
    },
    "kernelspec": {
      "name": "python3",
      "display_name": "Python 3"
    },
    "language_info": {
      "name": "python"
    }
  },
  "cells": [
    {
      "cell_type": "code",
      "execution_count": 42,
      "metadata": {
        "id": "lpEtgfF4LG_I"
      },
      "outputs": [],
      "source": [
        "import numpy as np\n",
        "import torch\n",
        "import torch.optim as optim\n",
        "import matplotlib.pyplot as plt\n",
        "import torch.nn as nn"
      ]
    },
    {
      "cell_type": "code",
      "source": [
        "np.__version__, torch.__version__"
      ],
      "metadata": {
        "colab": {
          "base_uri": "https://localhost:8080/"
        },
        "id": "pk18oSm3O1a-",
        "outputId": "2d72fae9-69da-4811-d78d-d2b19715651a"
      },
      "execution_count": 30,
      "outputs": [
        {
          "output_type": "execute_result",
          "data": {
            "text/plain": [
              "('1.26.4', '2.5.0+cu121')"
            ]
          },
          "metadata": {},
          "execution_count": 30
        }
      ]
    },
    {
      "cell_type": "markdown",
      "source": [
        "#**Load Data**"
      ],
      "metadata": {
        "id": "SJEfiNJMcxBZ"
      }
    },
    {
      "cell_type": "code",
      "source": [
        "corpus = [\"apple banana fruit\",\"banana apple fruit\",\"banana fruit apple\",\n",
        "    \"cat dog animal\",\"cat animal dog\",\"dog cat animal\"]"
      ],
      "metadata": {
        "id": "jFaKm6pBO-BL"
      },
      "execution_count": 31,
      "outputs": []
    },
    {
      "cell_type": "code",
      "source": [
        "corpus"
      ],
      "metadata": {
        "colab": {
          "base_uri": "https://localhost:8080/"
        },
        "id": "EbozGyPXZ9Tu",
        "outputId": "4f78def5-f685-4623-d073-ce437ec535df"
      },
      "execution_count": 32,
      "outputs": [
        {
          "output_type": "execute_result",
          "data": {
            "text/plain": [
              "['apple banana fruit',\n",
              " 'banana apple fruit',\n",
              " 'banana fruit apple',\n",
              " 'cat dog animal',\n",
              " 'cat animal dog',\n",
              " 'dog cat animal']"
            ]
          },
          "metadata": {},
          "execution_count": 32
        }
      ]
    },
    {
      "cell_type": "code",
      "source": [
        "# 1. tokenization\n",
        "corpus = [sent.split(\" \") for sent in corpus]\n",
        "corpus"
      ],
      "metadata": {
        "colab": {
          "base_uri": "https://localhost:8080/"
        },
        "id": "3IO7fb-5YcoO",
        "outputId": "093e5370-ccbe-4dff-d13e-61209cb6052d"
      },
      "execution_count": 33,
      "outputs": [
        {
          "output_type": "execute_result",
          "data": {
            "text/plain": [
              "[['apple', 'banana', 'fruit'],\n",
              " ['banana', 'apple', 'fruit'],\n",
              " ['banana', 'fruit', 'apple'],\n",
              " ['cat', 'dog', 'animal'],\n",
              " ['cat', 'animal', 'dog'],\n",
              " ['dog', 'cat', 'animal']]"
            ]
          },
          "metadata": {},
          "execution_count": 33
        }
      ]
    },
    {
      "cell_type": "code",
      "source": [
        "# 2. numericalization\n",
        "# find unique words\n",
        "flatten = lambda l: [item for sublist in l for item in sublist]\n",
        "# assign unique integer\n",
        "vocabs = list(set(flatten(corpus))) # all the words in system - <UNK>\n"
      ],
      "metadata": {
        "id": "91lKbIXHYjjH"
      },
      "execution_count": 34,
      "outputs": []
    },
    {
      "cell_type": "code",
      "source": [
        "# handy mapping between words and integers\n",
        "word2index = {v:idx for idx,v in enumerate(vocabs)}\n",
        "word2index"
      ],
      "metadata": {
        "colab": {
          "base_uri": "https://localhost:8080/"
        },
        "id": "0gUfRCV2bCa0",
        "outputId": "05e56d32-bfee-4a92-816c-382bfccb620b"
      },
      "execution_count": 35,
      "outputs": [
        {
          "output_type": "execute_result",
          "data": {
            "text/plain": [
              "{'dog': 0, 'fruit': 1, 'apple': 2, 'banana': 3, 'cat': 4, 'animal': 5}"
            ]
          },
          "metadata": {},
          "execution_count": 35
        }
      ]
    },
    {
      "cell_type": "code",
      "source": [
        "vocabs.append('<UNK>')\n",
        "word2index['<UNK>'] = 6\n"
      ],
      "metadata": {
        "id": "A7BKfM2Rbqnu"
      },
      "execution_count": 36,
      "outputs": []
    },
    {
      "cell_type": "code",
      "source": [
        "index2word = {v:k for k,v in word2index.items()}\n",
        "index2word"
      ],
      "metadata": {
        "colab": {
          "base_uri": "https://localhost:8080/"
        },
        "id": "sISfyCSIb_PD",
        "outputId": "341ea766-5bd9-4c30-dc2c-069689eaa071"
      },
      "execution_count": 37,
      "outputs": [
        {
          "output_type": "execute_result",
          "data": {
            "text/plain": [
              "{0: 'dog',\n",
              " 1: 'fruit',\n",
              " 2: 'apple',\n",
              " 3: 'banana',\n",
              " 4: 'cat',\n",
              " 5: 'animal',\n",
              " 6: '<UNK>'}"
            ]
          },
          "metadata": {},
          "execution_count": 37
        }
      ]
    },
    {
      "cell_type": "markdown",
      "source": [
        "#**prepare training data**"
      ],
      "metadata": {
        "id": "hE-wtUSGc67H"
      }
    },
    {
      "cell_type": "code",
      "source": [
        "# create pairs of center words, and outside words\n",
        "def random_batch(batch_size, corpus):\n",
        "  skipgram = []\n",
        "  # loop each corpus\n",
        "  for doc in corpus:\n",
        "\n",
        "    # look for second word until the 2nd last word\n",
        "    for i in range(1,len(doc)-1):\n",
        "      #center word\n",
        "      center = word2index[doc[i]]\n",
        "      #outside words\n",
        "      outside = (word2index[doc[i-1]], word2index[doc[i+1]])\n",
        "      #for each of these two outside words, we gonna append to a list\n",
        "      for each_out in outside:\n",
        "        #center, outside1; center outside 2\n",
        "        skipgram.append([center,each_out])\n",
        "  random_index = np.random.choice(range(len(skipgram)), batch_size, replace=False)\n",
        "  inputs, labels = [], []\n",
        "  for index in random_index:\n",
        "    inputs.append([skipgram[index][0]])\n",
        "    labels.append([skipgram[index][1]])\n",
        "  return np.array(inputs), np.array(labels)\n",
        "x,y = random_batch(2,corpus)"
      ],
      "metadata": {
        "id": "A7xi8RH0cA53"
      },
      "execution_count": 38,
      "outputs": []
    },
    {
      "cell_type": "code",
      "source": [
        "vocabs"
      ],
      "metadata": {
        "colab": {
          "base_uri": "https://localhost:8080/"
        },
        "id": "JrvdusOAm8c3",
        "outputId": "b39a4572-4c79-4089-f0a3-3d578693c996"
      },
      "execution_count": 39,
      "outputs": [
        {
          "output_type": "execute_result",
          "data": {
            "text/plain": [
              "['dog', 'fruit', 'apple', 'banana', 'cat', 'animal', '<UNK>']"
            ]
          },
          "metadata": {},
          "execution_count": 39
        }
      ]
    },
    {
      "cell_type": "code",
      "source": [
        "print(x.shape, y.shape)"
      ],
      "metadata": {
        "colab": {
          "base_uri": "https://localhost:8080/"
        },
        "id": "CA3Sp1TFe7Us",
        "outputId": "3b700b9c-7833-40b0-c6a4-809b307259d6"
      },
      "execution_count": 40,
      "outputs": [
        {
          "output_type": "stream",
          "name": "stdout",
          "text": [
            "(2, 1) (2, 1)\n"
          ]
        }
      ]
    },
    {
      "cell_type": "markdown",
      "source": [
        "#**Model**"
      ],
      "metadata": {
        "id": "kB8qqldLmEmK"
      }
    },
    {
      "cell_type": "code",
      "source": [
        "class Skipgram(nn.Module):\n",
        "\n",
        "  def __init__(self, voc_size, emb_size):\n",
        "    super(Skipgram, self).__init__()\n",
        "    self.embedding_center = nn.Embedding(voc_size, emb_size)\n",
        "    self.embedding_outside = nn.Embedding(voc_size, emb_size)\n",
        "\n",
        "\n",
        "  def forward(self, center, outside, all_vocabs):\n",
        "    center_embedding = self.embedding_center(center)      #batch_size, 1 ,emb_size\n",
        "    outside_embedding = self.embedding_outside(outside)   #batch_size, 1 ,emb_size\n",
        "    all_vocabs_embedding = self.embedding_center(all_vocabs)   #batch_size, voc_size ,emb_size\n",
        "\n",
        "    top_term = torch.exp(outside_embedding.bmm(center_embedding.transpose(1,2)).squeeze(2))\n",
        "    #batch_size,1,emb_size @ batch_size, emb_size, 1 = batch_size,1,1 = batch_size, 1\n",
        "    lower_term = all_vocabs_embedding.bmm(center_embedding.transpose(1,2)).squeeze(2)\n",
        "    #batch_size, voc_size ,emb_size @ batch_size, emb_size, 1 = batch_size, voc_size ,1 = batch_size, voc_size\n",
        "    lower_term_sum = torch.sum(torch.exp(lower_term), 1)  # batch_size, 1\n",
        "\n",
        "    loss = -torch.mean(torch.log(top_term/ lower_term_sum))\n",
        "\n",
        "    return loss\n",
        "\n"
      ],
      "metadata": {
        "id": "5ReQt0LflwH8"
      },
      "execution_count": 44,
      "outputs": []
    },
    {
      "cell_type": "code",
      "source": [
        "vocabs"
      ],
      "metadata": {
        "colab": {
          "base_uri": "https://localhost:8080/"
        },
        "id": "90zBzU5-vms2",
        "outputId": "4823ddfc-22ab-4138-a444-e444d9b219c6"
      },
      "execution_count": 47,
      "outputs": [
        {
          "output_type": "execute_result",
          "data": {
            "text/plain": [
              "['dog', 'fruit', 'apple', 'banana', 'cat', 'animal', '<UNK>']"
            ]
          },
          "metadata": {},
          "execution_count": 47
        }
      ]
    },
    {
      "cell_type": "code",
      "source": [
        "# prepare all vocabs\n",
        "\n",
        "batch_size =2\n",
        "voc_size = len(vocabs\n",
        "               )\n",
        "def prepare_sequence(seq, word2index):\n",
        "  idxs = list(map(lambda w: word2index[w] if word2index.get(w) is not None else word2index[\"<UNK>\"], seq))\n",
        "  return torch.LongTensor(idxs)\n",
        "\n",
        "all_vocabs = prepare_sequence(list(vocabs), word2index).expand(batch_size, voc_size)\n",
        "all_vocabs"
      ],
      "metadata": {
        "colab": {
          "base_uri": "https://localhost:8080/"
        },
        "id": "YC1b2TJLs0JI",
        "outputId": "75be9945-4fb7-46b5-e652-29ab95dedfe7"
      },
      "execution_count": 48,
      "outputs": [
        {
          "output_type": "execute_result",
          "data": {
            "text/plain": [
              "tensor([[0, 1, 2, 3, 4, 5, 6],\n",
              "        [0, 1, 2, 3, 4, 5, 6]])"
            ]
          },
          "metadata": {},
          "execution_count": 48
        }
      ]
    },
    {
      "cell_type": "markdown",
      "source": [
        "#**Training**"
      ],
      "metadata": {
        "id": "7xy8y-bVwTWz"
      }
    },
    {
      "cell_type": "code",
      "source": [
        "model = Skipgram(voc_size, 2)"
      ],
      "metadata": {
        "id": "fvKJEyKRvXGy"
      },
      "execution_count": 49,
      "outputs": []
    },
    {
      "cell_type": "code",
      "source": [
        "batch_size = 2\n",
        "emb_size = 2\n",
        "\n",
        "model = Skipgram(voc_size, emb_size)\n",
        "\n",
        "optimizer = optim.Adam(model.parameters(), lr = 0.001)\n"
      ],
      "metadata": {
        "id": "Q8EnkjsMwXqW"
      },
      "execution_count": 54,
      "outputs": []
    },
    {
      "cell_type": "code",
      "source": [
        "num_epochs = 5000\n",
        "\n",
        "for epoch in range(num_epochs):\n",
        "\n",
        "  # get batch\n",
        "  input_batch, label_batch = random_batch(batch_size, corpus)\n",
        "  input_tensor = torch.LongTensor(input_batch)\n",
        "  label_tensor = torch.LongTensor(label_batch)\n",
        "\n",
        "\n",
        "  # get prediction\n",
        "\n",
        "  loss = model(input_tensor, label_tensor, all_vocabs)\n",
        "\n",
        "  # back propogate\n",
        "  optimizer.zero_grad()\n",
        "  loss.backward()\n",
        "\n",
        "\n",
        "  #update alpha\n",
        "  optimizer.step()\n",
        "\n",
        "  #print loss\n",
        "\n",
        "  if(epoch+1)%100==0:\n",
        "    print(f'epoch: {epoch}, loss: {loss:2.4f}')"
      ],
      "metadata": {
        "colab": {
          "base_uri": "https://localhost:8080/"
        },
        "id": "0B0BCRDtxxXC",
        "outputId": "6a8a1d43-ba20-4fa5-9f0c-8f9b8d0da4ba"
      },
      "execution_count": 55,
      "outputs": [
        {
          "output_type": "stream",
          "name": "stdout",
          "text": [
            "epoch: 99, loss: 2.6930\n",
            "epoch: 199, loss: 1.5886\n",
            "epoch: 299, loss: 2.1233\n",
            "epoch: 399, loss: 2.0476\n",
            "epoch: 499, loss: 1.8233\n",
            "epoch: 599, loss: 2.7677\n",
            "epoch: 699, loss: 2.4858\n",
            "epoch: 799, loss: 1.5661\n",
            "epoch: 899, loss: 2.4866\n",
            "epoch: 999, loss: 1.4711\n",
            "epoch: 1099, loss: 1.4214\n",
            "epoch: 1199, loss: 2.9898\n",
            "epoch: 1299, loss: 1.8356\n",
            "epoch: 1399, loss: 1.7937\n",
            "epoch: 1499, loss: 1.2112\n",
            "epoch: 1599, loss: 0.7381\n",
            "epoch: 1699, loss: 1.2000\n",
            "epoch: 1799, loss: 1.0255\n",
            "epoch: 1899, loss: 2.1720\n",
            "epoch: 1999, loss: 2.0708\n",
            "epoch: 2099, loss: 1.5333\n",
            "epoch: 2199, loss: 0.7828\n",
            "epoch: 2299, loss: 1.2405\n",
            "epoch: 2399, loss: 1.7811\n",
            "epoch: 2499, loss: 1.4468\n",
            "epoch: 2599, loss: 1.2503\n",
            "epoch: 2699, loss: -0.4050\n",
            "epoch: 2799, loss: -0.5252\n",
            "epoch: 2899, loss: 0.7758\n",
            "epoch: 2999, loss: 1.7923\n",
            "epoch: 3099, loss: 1.9363\n",
            "epoch: 3199, loss: -0.5728\n",
            "epoch: 3299, loss: 1.2086\n",
            "epoch: 3399, loss: -0.0745\n",
            "epoch: 3499, loss: 1.3659\n",
            "epoch: 3599, loss: 0.7054\n",
            "epoch: 3699, loss: -0.1793\n",
            "epoch: 3799, loss: -0.8696\n",
            "epoch: 3899, loss: -0.3410\n",
            "epoch: 3999, loss: -2.8780\n",
            "epoch: 4099, loss: -1.0292\n",
            "epoch: 4199, loss: -2.6849\n",
            "epoch: 4299, loss: -1.3891\n",
            "epoch: 4399, loss: -1.9660\n",
            "epoch: 4499, loss: -0.4421\n",
            "epoch: 4599, loss: -2.4753\n",
            "epoch: 4699, loss: -1.5301\n",
            "epoch: 4799, loss: -2.2529\n",
            "epoch: 4899, loss: -2.1893\n",
            "epoch: 4999, loss: -1.4373\n"
          ]
        }
      ]
    },
    {
      "cell_type": "code",
      "source": [],
      "metadata": {
        "id": "WSv3nwZ2y_8P"
      },
      "execution_count": null,
      "outputs": []
    }
  ]
}